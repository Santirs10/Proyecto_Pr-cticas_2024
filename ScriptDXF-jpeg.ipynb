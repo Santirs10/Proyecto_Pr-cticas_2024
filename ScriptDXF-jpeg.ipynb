import numpy as np
!pip install ezdxf
import ezdxf
import matplotlib.pyplot as plt
from google.colab import files
from matplotlib.backends.backend_agg import FigureCanvasAgg as FigureCanvas
from PIL import Image
# Cargar archivos DXF
uploaded_files = files.upload()

for filename in uploaded_files.keys():
    doc = ezdxf.readfile(filename)
    msp = doc.modelspace()

    fig, ax = plt.subplots()
    ctx = fig.dpi_scale_trans.inverted()
    fig.dpi = 100
    fig.set_size_inches(10, 10)
    ax.set_aspect('equal')
    ax.axis('off')

    # Dibujar todas las entidades
    for entity in msp.query('LINE'):
        start = (entity.dxf.start.x, entity.dxf.start.y)
        end = (entity.dxf.end.x, entity.dxf.end.y)
        ax.plot([start[0], end[0]], [start[1], end[1]], color='black')

    # Convertir la figura de Matplotlib a imagen y guardar como JPEG
    canvas = FigureCanvas(fig)
    canvas.draw()
    image_from_plot = np.frombuffer(canvas.tostring_rgb(), dtype='uint8')
    image_from_plot = image_from_plot.reshape(canvas.get_width_height()[::-1] + (3,))

    plt_img = Image.fromarray(image_from_plot)
    output_filename = f"{filename[:-4]}.jpg"
    plt_img.save(output_filename)
    plt.close()

    # Opción para descargar el archivo JPEG
    files.download(output_filename)
